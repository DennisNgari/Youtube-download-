{
 "cells": [
  {
   "cell_type": "code",
   "execution_count": null,
   "id": "4313b99a",
   "metadata": {},
   "outputs": [],
   "source": [
    "# Download mp3 in Youtube."
   ]
  },
  {
   "cell_type": "code",
   "execution_count": 3,
   "id": "b027681a",
   "metadata": {
    "scrolled": true
   },
   "outputs": [
    {
     "name": "stdout",
     "output_type": "stream",
     "text": [
      "Enter URL: \n",
      ">>https://www.youtube.com/watch?v=ckNlEj8PMUI\n",
      "Enter Destination: \n",
      ">> \n",
      "MKONO WA BWANA by Zabron Singers (SMS SKIZA 8561961 TO 811)  +255755778378has been downloaded!\n"
     ]
    }
   ],
   "source": [
    "from pytube import YouTube\n",
    "import os\n",
    "\n",
    "\n",
    "\n",
    "def myfunct():\n",
    "        yt = YouTube(str(input(\"Enter URL: \\n>>\")))\n",
    "        video = yt.streams.filter(only_audio=True).first()\n",
    "        print(\"Enter Destination: \")\n",
    "        destination = str(input(\">> \")) or \".\"\n",
    "        out_file = video.download(output_path = destination)\n",
    "        base, ext = os.path.splitext(out_file)\n",
    "        new_file = base + \".mp3\"\n",
    "        os.rename(out_file, new_file)\n",
    "        print(yt.title + \"has been downloaded!\")\n",
    "        \n",
    "        \n",
    "    \n",
    "myfunct()"
   ]
  }
 ],
 "metadata": {
  "kernelspec": {
   "display_name": "Python 3",
   "language": "python",
   "name": "python3"
  },
  "language_info": {
   "codemirror_mode": {
    "name": "ipython",
    "version": 3
   },
   "file_extension": ".py",
   "mimetype": "text/x-python",
   "name": "python",
   "nbconvert_exporter": "python",
   "pygments_lexer": "ipython3",
   "version": "3.8.3"
  }
 },
 "nbformat": 4,
 "nbformat_minor": 5
}
